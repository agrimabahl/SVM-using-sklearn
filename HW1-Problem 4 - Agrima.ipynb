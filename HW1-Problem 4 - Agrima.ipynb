{
 "cells": [
  {
   "cell_type": "code",
   "execution_count": 2,
   "metadata": {
    "collapsed": false
   },
   "outputs": [],
   "source": [
    "import math\n",
    "\n",
    "#benchmark.m, converted\n",
    "def benchmark(pred_labels, true_labels):\n",
    "    errors = pred_labels != true_labels\n",
    "    err_rate = sum(errors) / float(len(true_labels))\n",
    "    indices = errors.nonzero()\n",
    "    return err_rate, indices\n",
    "\n",
    "#montage_images.m, converted\n",
    "def montage_images(images):\n",
    "    num_images=min(1000,np.size(images,2))\n",
    "    numrows=math.floor(math.sqrt(num_images))\n",
    "    numcols=math.ceil(num_images/numrows)\n",
    "    img=np.zeros((numrows*28,numcols*28));\n",
    "    for k in range(num_images):\n",
    "        r = k % numrows\n",
    "        c = k // numrows\n",
    "        img[r*28:(r+1)*28,c*28:(c+1)*28]=images[:,:,k];\n",
    "    return img\n"
   ]
  },
  {
   "cell_type": "code",
   "execution_count": 3,
   "metadata": {
    "collapsed": false
   },
   "outputs": [],
   "source": [
    "import scipy.io\n",
    "tr = scipy.io.loadmat('spam_data.mat')\n"
   ]
  },
  {
   "cell_type": "code",
   "execution_count": 4,
   "metadata": {
    "collapsed": true
   },
   "outputs": [],
   "source": [
    "train=tr[\"training_data\"]"
   ]
  },
  {
   "cell_type": "code",
   "execution_count": 5,
   "metadata": {
    "collapsed": true
   },
   "outputs": [],
   "source": [
    "test=tr[\"test_data\"]"
   ]
  },
  {
   "cell_type": "code",
   "execution_count": 6,
   "metadata": {
    "collapsed": true
   },
   "outputs": [],
   "source": [
    "label=tr[\"training_labels\"][0]"
   ]
  },
  {
   "cell_type": "code",
   "execution_count": 7,
   "metadata": {
    "collapsed": false
   },
   "outputs": [],
   "source": [
    "from sklearn.utils import shuffle\n",
    "train, label = shuffle(train, label, random_state=0)"
   ]
  },
  {
   "cell_type": "code",
   "execution_count": 8,
   "metadata": {
    "collapsed": false
   },
   "outputs": [],
   "source": [
    "folds = 10\n",
    "subset_size = int(len(train)/folds)\n",
    "\n"
   ]
  },
  {
   "cell_type": "code",
   "execution_count": 10,
   "metadata": {
    "collapsed": false
   },
   "outputs": [
    {
     "name": "stdout",
     "output_type": "stream",
     "text": [
      "Error rate: 0.203094777563\n",
      "Error rate: 0.206963249516\n",
      "Error rate: 0.189555125725\n",
      "Error rate: 0.195357833656\n",
      "Error rate: 0.197292069632\n",
      "Error rate: 0.199226305609\n",
      "Error rate: 0.203094777563\n",
      "Error rate: 0.195357833656\n",
      "Error rate: 0.177949709865\n",
      "Error rate: 0.203094777563\n"
     ]
    }
   ],
   "source": [
    "#Finding optimal C\n",
    "import numpy as np\n",
    "from sklearn import svm, datasets\n",
    "\n",
    "\n",
    "b=[0]*10\n",
    "for i in range(0,10):\n",
    "    validation = train[i*subset_size:(i+1)*subset_size]\n",
    "    labelv = label[i*subset_size:(i+1)*subset_size]\n",
    "    training = np.concatenate((train[:i*subset_size],train[(i+1)*subset_size:]))\n",
    "    labelt = np.concatenate((label[:i*subset_size],label[(i+1)*subset_size:]))\n",
    "    svc2 = svm.SVC(kernel='linear',C=10).fit(training, labelt)\n",
    "    pred2 = svc2.predict(validation)\n",
    "    b[i]=benchmark(pred2,labelv)[0]\n",
    "    print(\"Error rate:\",b[i])"
   ]
  },
  {
   "cell_type": "code",
   "execution_count": 11,
   "metadata": {
    "collapsed": false
   },
   "outputs": [
    {
     "data": {
      "text/plain": [
       "0.19709864603481625"
      ]
     },
     "execution_count": 11,
     "metadata": {},
     "output_type": "execute_result"
    }
   ],
   "source": [
    "Validation_error = sum(b)/len(b)\n",
    "Validation_error"
   ]
  },
  {
   "cell_type": "code",
   "execution_count": 12,
   "metadata": {
    "collapsed": true
   },
   "outputs": [],
   "source": [
    "pred_test = svc2.predict(test)"
   ]
  },
  {
   "cell_type": "code",
   "execution_count": null,
   "metadata": {
    "collapsed": true
   },
   "outputs": [],
   "source": [
    "numpy.savetxt(\"Spamdata.csv\", pred_test, delimiter=\",\")"
   ]
  }
 ],
 "metadata": {
  "kernelspec": {
   "display_name": "Python 3",
   "language": "python",
   "name": "python3"
  },
  "language_info": {
   "codemirror_mode": {
    "name": "ipython",
    "version": 3
   },
   "file_extension": ".py",
   "mimetype": "text/x-python",
   "name": "python",
   "nbconvert_exporter": "python",
   "pygments_lexer": "ipython3",
   "version": "3.5.1"
  }
 },
 "nbformat": 4,
 "nbformat_minor": 0
}
