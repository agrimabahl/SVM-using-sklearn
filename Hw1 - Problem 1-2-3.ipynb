{
 "cells": [
  {
   "cell_type": "code",
   "execution_count": 15,
   "metadata": {
    "collapsed": false
   },
   "outputs": [
    {
     "name": "stdout",
     "output_type": "stream",
     "text": [
      "Populating the interactive namespace from numpy and matplotlib\n"
     ]
    }
   ],
   "source": [
    "%pylab inline"
   ]
  },
  {
   "cell_type": "code",
   "execution_count": 16,
   "metadata": {
    "collapsed": true
   },
   "outputs": [],
   "source": [
    "import math\n",
    "import scipy.io\n",
    "import numpy as np\n",
    "import matplotlib.pyplot as plt\n",
    "#benchmark.m, converted\n",
    "def benchmark(pred_labels, true_labels):\n",
    "    errors = pred_labels != true_labels\n",
    "    err_rate = sum(errors) / float(len(true_labels))\n",
    "    indices = errors.nonzero()\n",
    "    return err_rate, indices\n",
    "\n",
    "#montage_images.m, converted\n",
    "def montage_images(images):\n",
    "    num_images=min(1000,np.size(images,2))\n",
    "    numrows=math.floor(math.sqrt(num_images))\n",
    "    numcols=math.ceil(num_images/numrows)\n",
    "    img=np.zeros((numrows*28,numcols*28));\n",
    "    for k in range(num_images):\n",
    "        r = k % numrows\n",
    "        c = k // numrows\n",
    "        img[r*28:(r+1)*28,c*28:(c+1)*28]=images[:,:,k];\n",
    "    return img\n",
    "\n"
   ]
  },
  {
   "cell_type": "code",
   "execution_count": 4,
   "metadata": {
    "collapsed": false
   },
   "outputs": [],
   "source": [
    "tr = scipy.io.loadmat('train.mat')\n",
    "newt=tr[\"train_images\"].transpose()"
   ]
  },
  {
   "cell_type": "code",
   "execution_count": 12,
   "metadata": {
    "collapsed": false
   },
   "outputs": [],
   "source": [
    "train_matrix=np.empty((60000,28,28))\n",
    "for i in range(0,28):\n",
    "    for j in range(0,28):\n",
    "        for k in range(0,60000):\n",
    "            train_matrix[k][j][i]=newt[k][i][j]"
   ]
  },
  {
   "cell_type": "code",
   "execution_count": 7,
   "metadata": {
    "collapsed": true
   },
   "outputs": [],
   "source": [
    "#Can be changed to the file name\n",
    "testdata = scipy.io.loadmat('test.mat')"
   ]
  },
  {
   "cell_type": "code",
   "execution_count": 10,
   "metadata": {
    "collapsed": false
   },
   "outputs": [],
   "source": [
    "testset=testdata[\"test_images\"]"
   ]
  },
  {
   "cell_type": "code",
   "execution_count": 13,
   "metadata": {
    "collapsed": false
   },
   "outputs": [],
   "source": [
    "test_matrix=np.empty((10000,28,28))\n",
    "for i in range(0,28):\n",
    "    for j in range(0,28):\n",
    "        for k in range(0,10000):\n",
    "            test_matrix[k][j][i]=testset[k][i][j]"
   ]
  },
  {
   "cell_type": "code",
   "execution_count": 21,
   "metadata": {
    "collapsed": false
   },
   "outputs": [],
   "source": [
    "test=test_matrix.reshape(10000,784)\n",
    "a=train_matrix.reshape(60000,784)\n",
    "y=tr[\"train_labels\"].flatten()"
   ]
  },
  {
   "cell_type": "code",
   "execution_count": 22,
   "metadata": {
    "collapsed": true
   },
   "outputs": [],
   "source": [
    "from sklearn.utils import shuffle\n",
    "a, y = shuffle(a, y, random_state=0)"
   ]
  },
  {
   "cell_type": "code",
   "execution_count": 23,
   "metadata": {
    "collapsed": true
   },
   "outputs": [],
   "source": [
    "training_im = a[10000:]\n",
    "validation_images = a[:10000]\n",
    "validation_labels=y[:10000]\n",
    "training_labels=y[10000:]"
   ]
  },
  {
   "cell_type": "code",
   "execution_count": 25,
   "metadata": {
    "collapsed": true
   },
   "outputs": [],
   "source": [
    "from sklearn import svm, datasets"
   ]
  },
  {
   "cell_type": "code",
   "execution_count": 26,
   "metadata": {
    "collapsed": false
   },
   "outputs": [
    {
     "data": {
      "text/plain": [
       "0.33689999999999998"
      ]
     },
     "execution_count": 26,
     "metadata": {},
     "output_type": "execute_result"
    }
   ],
   "source": [
    "#100 training data\n",
    "ssx1=training_im[:100]\n",
    "ssy1=training_labels[:100]\n",
    "svc1 = svm.SVC(kernel='linear').fit(ssx1, ssy1)\n",
    "pred1=svc1.predict(validation_images)\n",
    "b1=benchmark(pred1,validation_labels)[0]\n",
    "b1"
   ]
  },
  {
   "cell_type": "code",
   "execution_count": 27,
   "metadata": {
    "collapsed": false
   },
   "outputs": [
    {
     "data": {
      "text/plain": [
       "0.25800000000000001"
      ]
     },
     "execution_count": 27,
     "metadata": {},
     "output_type": "execute_result"
    }
   ],
   "source": [
    "#200 training data\n",
    "ssx2=training_im[100:300]\n",
    "ssy2=training_labels[100:300]\n",
    "svc2 = svm.SVC(kernel='linear').fit(ssx2, ssy2)\n",
    "pred2=svc2.predict(validation_images)\n",
    "b2=benchmark(pred2,validation_labels)[0]\n",
    "b2"
   ]
  },
  {
   "cell_type": "code",
   "execution_count": 28,
   "metadata": {
    "collapsed": false
   },
   "outputs": [
    {
     "data": {
      "text/plain": [
       "0.184"
      ]
     },
     "execution_count": 28,
     "metadata": {},
     "output_type": "execute_result"
    }
   ],
   "source": [
    "#500 training data\n",
    "ssx3=training_im[300:800]\n",
    "ssy3=training_labels[300:800]\n",
    "svc3 = svm.SVC(kernel='linear').fit(ssx3, ssy3)\n",
    "pred3=svc3.predict(validation_images)\n",
    "b3=benchmark(pred3,validation_labels)[0]\n",
    "b3"
   ]
  },
  {
   "cell_type": "code",
   "execution_count": 29,
   "metadata": {
    "collapsed": false
   },
   "outputs": [
    {
     "data": {
      "text/plain": [
       "0.16589999999999999"
      ]
     },
     "execution_count": 29,
     "metadata": {},
     "output_type": "execute_result"
    }
   ],
   "source": [
    "#1000 training data\n",
    "ssx4=training_im[1000:2000]\n",
    "ssy4=training_labels[1000:2000]\n",
    "svc4 = svm.SVC(kernel='linear').fit(ssx4, ssy4)\n",
    "pred4=svc4.predict(validation_images)\n",
    "b4=benchmark(pred4,validation_labels)[0]\n",
    "b4"
   ]
  },
  {
   "cell_type": "code",
   "execution_count": 30,
   "metadata": {
    "collapsed": false
   },
   "outputs": [
    {
     "data": {
      "text/plain": [
       "0.1406"
      ]
     },
     "execution_count": 30,
     "metadata": {},
     "output_type": "execute_result"
    }
   ],
   "source": [
    "#2000 training data\n",
    "ssx5=training_im[2000:4000]\n",
    "ssy5=training_labels[2000:4000]\n",
    "svc5 = svm.SVC(kernel='linear').fit(ssx5, ssy5)\n",
    "pred5=svc5.predict(validation_images)\n",
    "b5=benchmark(pred5,validation_labels)[0]\n",
    "b5"
   ]
  },
  {
   "cell_type": "code",
   "execution_count": 31,
   "metadata": {
    "collapsed": false
   },
   "outputs": [
    {
     "data": {
      "text/plain": [
       "0.1368"
      ]
     },
     "execution_count": 31,
     "metadata": {},
     "output_type": "execute_result"
    }
   ],
   "source": [
    "#5000 training data\n",
    "ssx6=training_im[4000:9000]\n",
    "ssy6=training_labels[4000:9000]\n",
    "svc6 = svm.SVC(kernel='linear').fit(ssx6, ssy6)\n",
    "pred6=svc6.predict(validation_images)\n",
    "b6=benchmark(pred6,validation_labels)[0]\n",
    "b6"
   ]
  },
  {
   "cell_type": "code",
   "execution_count": 32,
   "metadata": {
    "collapsed": false
   },
   "outputs": [
    {
     "data": {
      "text/plain": [
       "0.1358"
      ]
     },
     "execution_count": 32,
     "metadata": {},
     "output_type": "execute_result"
    }
   ],
   "source": [
    "#10000 training data\n",
    "ssx7=a[10000:20000]\n",
    "ssy7=y[10000:20000]\n",
    "svc7 = svm.SVC(kernel='linear').fit(ssx7, ssy7)\n",
    "pred7=svc7.predict(validation_images)\n",
    "b7=benchmark(pred7,validation_labels)[0]\n",
    "b7"
   ]
  },
  {
   "cell_type": "code",
   "execution_count": 33,
   "metadata": {
    "collapsed": false
   },
   "outputs": [
    {
     "data": {
      "text/plain": [
       "<matplotlib.text.Text at 0x147086588>"
      ]
     },
     "execution_count": 33,
     "metadata": {},
     "output_type": "execute_result"
    },
    {
     "data": {
      "image/png": "[encoded data removed]",
      "text/plain": [
       "<matplotlib.figure.Figure at 0x14706dbe0>"
      ]
     },
     "metadata": {},
     "output_type": "display_data"
    }
   ],
   "source": [
    "plt.plot([10000, 5000, 2000, 1000,500,200,100],[b7, b6, b5, b4,b3,b2,b1])\n",
    "plt.xlabel('Training set size', fontsize=18)\n",
    "plt.ylabel('Error rate', fontsize=16)"
   ]
  },
  {
   "cell_type": "code",
   "execution_count": 34,
   "metadata": {
    "collapsed": true
   },
   "outputs": [],
   "source": [
    "from sklearn import metrics as mt"
   ]
  },
  {
   "cell_type": "code",
   "execution_count": 35,
   "metadata": {
    "collapsed": false
   },
   "outputs": [
    {
     "data": {
      "text/plain": [
       "<matplotlib.image.AxesImage at 0x149e575f8>"
      ]
     },
     "execution_count": 35,
     "metadata": {},
     "output_type": "execute_result"
    },
    {
     "data": {
      "image/png": "[encoded data removed]",
      "text/plain": [
       "<matplotlib.figure.Figure at 0x149d669e8>"
      ]
     },
     "metadata": {},
     "output_type": "display_data"
    }
   ],
   "source": [
    "#100 dataset\n",
    "cm1=mt.confusion_matrix(validation_labels,pred1,labels=None)\n",
    "plt.imshow(cm1, interpolation='nearest', cmap=plt.cm.Purples)"
   ]
  },
  {
   "cell_type": "code",
   "execution_count": 36,
   "metadata": {
    "collapsed": false
   },
   "outputs": [
    {
     "data": {
      "text/plain": [
       "<matplotlib.image.AxesImage at 0x149fc0ac8>"
      ]
     },
     "execution_count": 36,
     "metadata": {},
     "output_type": "execute_result"
    },
    {
     "data": {
      "image/png": "[encoded data removed]",
      "text/plain": [
       "<matplotlib.figure.Figure at 0x149e30d68>"
      ]
     },
     "metadata": {},
     "output_type": "display_data"
    }
   ],
   "source": [
    "#200 dataset\n",
    "cm2=mt.confusion_matrix(validation_labels,pred2,labels=None)\n",
    "plt.imshow(cm2, interpolation='nearest', cmap=plt.cm.Purples)"
   ]
  },
  {
   "cell_type": "code",
   "execution_count": 37,
   "metadata": {
    "collapsed": false
   },
   "outputs": [
    {
     "data": {
      "text/plain": [
       "<matplotlib.image.AxesImage at 0x14a0d5278>"
      ]
     },
     "execution_count": 37,
     "metadata": {},
     "output_type": "execute_result"
    },
    {
     "data": {
      "image/png": "[encoded data removed]",
      "text/plain": [
       "<matplotlib.figure.Figure at 0x149f9d048>"
      ]
     },
     "metadata": {},
     "output_type": "display_data"
    }
   ],
   "source": [
    "#500 dataset\n",
    "cm3=mt.confusion_matrix(validation_labels,pred3,labels=None)\n",
    "plt.imshow(cm3, interpolation='nearest', cmap=plt.cm.Purples)"
   ]
  },
  {
   "cell_type": "code",
   "execution_count": 38,
   "metadata": {
    "collapsed": false
   },
   "outputs": [
    {
     "data": {
      "text/plain": [
       "<matplotlib.image.AxesImage at 0x14a1e6b00>"
      ]
     },
     "execution_count": 38,
     "metadata": {},
     "output_type": "execute_result"
    },
    {
     "data": {
      "image/png": "[encoded data removed]",
      "text/plain": [
       "<matplotlib.figure.Figure at 0x14a0a8278>"
      ]
     },
     "metadata": {},
     "output_type": "display_data"
    }
   ],
   "source": [
    "#1000 dataset\n",
    "cm4=mt.confusion_matrix(validation_labels,pred4,labels=None)\n",
    "plt.imshow(cm4, interpolation='nearest', cmap=plt.cm.Purples)"
   ]
  },
  {
   "cell_type": "code",
   "execution_count": 39,
   "metadata": {
    "collapsed": false
   },
   "outputs": [
    {
     "data": {
      "text/plain": [
       "<matplotlib.image.AxesImage at 0x14a2fb3c8>"
      ]
     },
     "execution_count": 39,
     "metadata": {},
     "output_type": "execute_result"
    },
    {
     "data": {
      "image/png": "[encoded data removed]",
      "text/plain": [
       "<matplotlib.figure.Figure at 0x14a1c2240>"
      ]
     },
     "metadata": {},
     "output_type": "display_data"
    }
   ],
   "source": [
    "#2000 dataset\n",
    "cm5=mt.confusion_matrix(validation_labels,pred5,labels=None)\n",
    "plt.imshow(cm5, interpolation='nearest', cmap=plt.cm.Purples)"
   ]
  },
  {
   "cell_type": "code",
   "execution_count": 40,
   "metadata": {
    "collapsed": false
   },
   "outputs": [
    {
     "data": {
      "text/plain": [
       "<matplotlib.image.AxesImage at 0x14a524c50>"
      ]
     },
     "execution_count": 40,
     "metadata": {},
     "output_type": "execute_result"
    },
    {
     "data": {
      "image/png": "[encoded data removed]",
      "text/plain": [
       "<matplotlib.figure.Figure at 0x14a2d3860>"
      ]
     },
     "metadata": {},
     "output_type": "display_data"
    }
   ],
   "source": [
    "#5000 dataset\n",
    "cm6=mt.confusion_matrix(validation_labels,pred6,labels=None)\n",
    "plt.imshow(cm6, interpolation='nearest', cmap=plt.cm.Purples)"
   ]
  },
  {
   "cell_type": "code",
   "execution_count": 41,
   "metadata": {
    "collapsed": false
   },
   "outputs": [
    {
     "data": {
      "text/plain": [
       "<matplotlib.image.AxesImage at 0x14a745518>"
      ]
     },
     "execution_count": 41,
     "metadata": {},
     "output_type": "execute_result"
    },
    {
     "data": {
      "image/png": "[encoded data removed]",
      "text/plain": [
       "<matplotlib.figure.Figure at 0x14a5033c8>"
      ]
     },
     "metadata": {},
     "output_type": "display_data"
    }
   ],
   "source": [
    "#10000 dataset\n",
    "cm7=mt.confusion_matrix(validation_labels,pred7,labels=None)\n",
    "plt.imshow(cm7, interpolation='nearest', cmap=plt.cm.Purples)"
   ]
  },
  {
   "cell_type": "code",
   "execution_count": 42,
   "metadata": {
    "collapsed": true
   },
   "outputs": [],
   "source": [
    "#Cross-Validation\n",
    "folds = 10\n",
    "subset_size = int(len(ssx7)/folds)"
   ]
  },
  {
   "cell_type": "code",
   "execution_count": 49,
   "metadata": {
    "collapsed": false
   },
   "outputs": [
    {
     "name": "stdout",
     "output_type": "stream",
     "text": [
      "0.133  C value: 0.0001\n",
      "0.143  C value: 0.001\n",
      "0.133  C value: 0.01\n",
      "0.123  C value: 0.1\n",
      "0.126  C value: 1\n",
      "0.129  C value: 10\n",
      "0.116  C value: 100\n",
      "0.146  C value: 1000\n",
      "0.124  C value: 10000\n",
      "0.123  C value: 100000\n"
     ]
    }
   ],
   "source": [
    "#Optimal C search\n",
    "b=[0]*10\n",
    "for i in range(0,10):\n",
    "    validation = ssx7[i*subset_size:(i+1)*subset_size]\n",
    "    labelv = ssy7[i*subset_size:(i+1)*subset_size]\n",
    "    training = np.concatenate((ssx7[:i*subset_size],ssx7[(i+1)*subset_size:]))\n",
    "    labelt = np.concatenate((ssy7[:i*subset_size],ssy7[(i+1)*subset_size:]))\n",
    "    svcx = svm.SVC(kernel='linear',C=pow(10,i-4)).fit(training, labelt)\n",
    "    predx = svcx.predict(validation)\n",
    "    b[i]=benchmark(predx,labelv)[0]\n",
    "    print(\"Error rate:\", b[i], \" C value:\", pow(10,i-4))"
   ]
  },
  {
   "cell_type": "code",
   "execution_count": 51,
   "metadata": {
    "collapsed": false
   },
   "outputs": [
    {
     "name": "stdout",
     "output_type": "stream",
     "text": [
      "Error rate: 0.133\n",
      "Error rate: 0.143\n",
      "Error rate: 0.133\n",
      "Error rate: 0.123\n",
      "Error rate: 0.126\n",
      "Error rate: 0.129\n",
      "Error rate: 0.116\n",
      "Error rate: 0.146\n",
      "Error rate: 0.124\n",
      "Error rate: 0.123\n"
     ]
    }
   ],
   "source": [
    "#Cross-Validation on optimal C\n",
    "for i in range(0,10):\n",
    "    validation = ssx7[i*subset_size:(i+1)*subset_size]\n",
    "    labelv = ssy7[i*subset_size:(i+1)*subset_size]\n",
    "    training = np.concatenate((ssx7[:i*subset_size],ssx7[(i+1)*subset_size:]))\n",
    "    labelt = np.concatenate((ssy7[:i*subset_size],ssy7[(i+1)*subset_size:]))\n",
    "    svcx = svm.SVC(kernel='linear',C=100).fit(training, labelt)\n",
    "    predx = svcx.predict(validation)\n",
    "    b[i]=benchmark(predx,labelv)[0]\n",
    "    print(\"Error rate:\",b[i])"
   ]
  },
  {
   "cell_type": "code",
   "execution_count": 52,
   "metadata": {
    "collapsed": false
   },
   "outputs": [
    {
     "data": {
      "text/plain": [
       "0.12959999999999999"
      ]
     },
     "execution_count": 52,
     "metadata": {},
     "output_type": "execute_result"
    }
   ],
   "source": [
    "average=sum(b)/len(b)\n",
    "average"
   ]
  },
  {
   "cell_type": "code",
   "execution_count": 53,
   "metadata": {
    "collapsed": true
   },
   "outputs": [],
   "source": [
    "pred_test = svcx.predict(test)"
   ]
  },
  {
   "cell_type": "code",
   "execution_count": null,
   "metadata": {
    "collapsed": false
   },
   "outputs": [],
   "source": []
  },
  {
   "cell_type": "code",
   "execution_count": 59,
   "metadata": {
    "collapsed": false
   },
   "outputs": [],
   "source": [
    "numpy.savetxt(\"HW1-Agrima.csv\", pred_test, delimiter=\",\")"
   ]
  },
  {
   "cell_type": "code",
   "execution_count": 1,
   "metadata": {
    "collapsed": false
   },
   "outputs": [
    {
     "ename": "NameError",
     "evalue": "name 'c' is not defined",
     "output_type": "error",
     "traceback": [
      "\u001b[0;31m---------------------------------------------------------------------------\u001b[0m",
      "\u001b[0;31mNameError\u001b[0m                                 Traceback (most recent call last)",
      "\u001b[0;32m<ipython-input-1-496dc2a2d752>\u001b[0m in \u001b[0;36m<module>\u001b[0;34m()\u001b[0m\n\u001b[0;32m----> 1\u001b[0;31m \u001b[0mc\u001b[0m\u001b[0;34m.\u001b[0m\u001b[0mFileNotebookManager\u001b[0m\u001b[0;34m.\u001b[0m\u001b[0msave_script\u001b[0m \u001b[0;34m=\u001b[0m \u001b[0;32mTrue\u001b[0m\u001b[0;34m\u001b[0m\u001b[0m\n\u001b[0m",
      "\u001b[0;31mNameError\u001b[0m: name 'c' is not defined"
     ]
    }
   ],
   "source": []
  },
  {
   "cell_type": "code",
   "execution_count": 2,
   "metadata": {
    "collapsed": false
   },
   "outputs": [
    {
     "ename": "SyntaxError",
     "evalue": "invalid syntax (<ipython-input-2-cb5032a5ec07>, line 1)",
     "output_type": "error",
     "traceback": [
      "\u001b[0;36m  File \u001b[0;32m\"<ipython-input-2-cb5032a5ec07>\"\u001b[0;36m, line \u001b[0;32m1\u001b[0m\n\u001b[0;31m    ipython nbconvert --to FORMAT notebook.ipynb\u001b[0m\n\u001b[0m                    ^\u001b[0m\n\u001b[0;31mSyntaxError\u001b[0m\u001b[0;31m:\u001b[0m invalid syntax\n"
     ]
    }
   ],
   "source": []
  },
  {
   "cell_type": "code",
   "execution_count": 3,
   "metadata": {
    "collapsed": false
   },
   "outputs": [
    {
     "ename": "SyntaxError",
     "evalue": "invalid syntax (<ipython-input-3-c5fb5fabe56c>, line 1)",
     "output_type": "error",
     "traceback": [
      "\u001b[0;36m  File \u001b[0;32m\"<ipython-input-3-c5fb5fabe56c>\"\u001b[0;36m, line \u001b[0;32m1\u001b[0m\n\u001b[0;31m    ipython notebook\u001b[0m\n\u001b[0m                   ^\u001b[0m\n\u001b[0;31mSyntaxError\u001b[0m\u001b[0;31m:\u001b[0m invalid syntax\n"
     ]
    }
   ],
   "source": []
  },
  {
   "cell_type": "code",
   "execution_count": null,
   "metadata": {
    "collapsed": true
   },
   "outputs": [],
   "source": []
  }
 ],
 "metadata": {
  "kernelspec": {
   "display_name": "Python 3",
   "language": "python",
   "name": "python3"
  },
  "language_info": {
   "codemirror_mode": {
    "name": "ipython",
    "version": 3
   },
   "file_extension": ".py",
   "mimetype": "text/x-python",
   "name": "python",
   "nbconvert_exporter": "python",
   "pygments_lexer": "ipython3",
   "version": "3.5.1"
  }
 },
 "nbformat": 4,
 "nbformat_minor": 0
}
